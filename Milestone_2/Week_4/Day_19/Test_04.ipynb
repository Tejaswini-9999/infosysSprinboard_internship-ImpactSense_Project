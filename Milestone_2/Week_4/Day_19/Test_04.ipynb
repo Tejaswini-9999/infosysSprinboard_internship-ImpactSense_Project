{
 "cells": [
  {
   "cell_type": "markdown",
   "id": "ec871eb9",
   "metadata": {},
   "source": [
    "### Assignment-4\n",
    "\n",
    "**Objective:**\n",
    "\n",
    "Understand and implement model evaluation using cross-validation and improve model performance by hyperparameter tuning."
   ]
  },
  {
   "cell_type": "markdown",
   "id": "0b546c0c",
   "metadata": {},
   "source": [
    "Step 1: Import Libraries and Load Data"
   ]
  },
  {
   "cell_type": "code",
   "execution_count": 1,
   "id": "61bf31f2",
   "metadata": {},
   "outputs": [
    {
     "name": "stdout",
     "output_type": "stream",
     "text": [
      "Index(['Latitude', 'Longitude', 'Type', 'Depth', 'Magnitude', 'Magnitude Type',\n",
      "       'Root Mean Square', 'Source', 'Status', 'Year', 'Day', 'Month_sin',\n",
      "       'Month_cos', 'Hour_sin', 'Hour_cos', 'Type_Explosion',\n",
      "       'Type_Nuclear Explosion', 'Type_Rock Burst', 'Magnitude Type_MD',\n",
      "       'Magnitude Type_MH', 'Magnitude Type_ML', 'Magnitude Type_MS',\n",
      "       'Magnitude Type_MW', 'Magnitude Type_MWB', 'Magnitude Type_MWC',\n",
      "       'Magnitude Type_MWR', 'Magnitude Type_MWW', 'Source_ATLAS', 'Source_CI',\n",
      "       'Source_GCMT', 'Source_ISCGEM', 'Source_ISCGEMSUP', 'Source_NC',\n",
      "       'Source_NN', 'Source_OFFICIAL', 'Source_PR', 'Source_SE', 'Source_US',\n",
      "       'Source_UW', 'Status_Reviewed'],\n",
      "      dtype='object')\n"
     ]
    }
   ],
   "source": [
    "import pandas as pd\n",
    "import numpy as np\n",
    "url = \"https://raw.githubusercontent.com/springboardmentor943x/ImpactSense-Intern-project/refs/heads/main/Milestone_2/Week_4/Day_18/preprocessed_earthquake_data.csv\"\n",
    "df = pd.read_csv(url)\n",
    "print(df.columns)"
   ]
  },
  {
   "cell_type": "markdown",
   "id": "854d72e2",
   "metadata": {},
   "source": [
    "Step 2: Load Dataset and Prepare Features and Target"
   ]
  },
  {
   "cell_type": "code",
   "execution_count": 2,
   "id": "6cfa9002",
   "metadata": {},
   "outputs": [
    {
     "name": "stdout",
     "output_type": "stream",
     "text": [
      "Features shape: (23409, 39)\n",
      "Target shape: (23409,)\n"
     ]
    }
   ],
   "source": [
    "target_column = 'Magnitude'\n",
    "X = df.drop(columns=[target_column])\n",
    "y = df[target_column]\n",
    "\n",
    "print(\"Features shape:\", X.shape)\n",
    "print(\"Target shape:\", y.shape)\n"
   ]
  },
  {
   "cell_type": "markdown",
   "id": "a3dd027c",
   "metadata": {},
   "source": [
    "Step 3: Implement Cross-Validation"
   ]
  },
  {
   "cell_type": "code",
   "execution_count": 3,
   "id": "e3e0df6f",
   "metadata": {},
   "outputs": [
    {
     "name": "stdout",
     "output_type": "stream",
     "text": [
      "Cross-validation R^2 scores: [-0.11583774  0.08049321  0.06353796  0.01954318 -1.0587014 ]\n",
      "Average R^2 score: -0.20219295556246789\n"
     ]
    }
   ],
   "source": [
    "import pandas as pd\n",
    "from sklearn.preprocessing import LabelEncoder\n",
    "from sklearn.model_selection import cross_val_score\n",
    "from sklearn.ensemble import RandomForestRegressor\n",
    "\n",
    "df['Magnitude'] = pd.to_numeric(df['Magnitude'], errors='coerce')\n",
    "df = df.dropna(subset=['Magnitude'])\n",
    "\n",
    "df_enc = df.copy()\n",
    "for col in df_enc.columns:\n",
    "    if df_enc[col].dtype == 'object':\n",
    "        le = LabelEncoder()\n",
    "        df_enc[col] = le.fit_transform(df_enc[col].astype(str))\n",
    "\n",
    "X = df_enc.drop(columns=['Magnitude'])\n",
    "y = df_enc['Magnitude']\n",
    "\n",
    "model = RandomForestRegressor(n_estimators=50, random_state=42)\n",
    "\n",
    "scores = cross_val_score(model, X, y, cv=5, scoring='r2')\n",
    "\n",
    "print(\"Cross-validation R^2 scores:\", scores)\n",
    "print(\"Average R^2 score:\", scores.mean())\n"
   ]
  },
  {
   "cell_type": "markdown",
   "id": "7b7b0b5e",
   "metadata": {},
   "source": [
    "Step 4: Hyperparameter Tuning with GridSearchCV"
   ]
  },
  {
   "cell_type": "code",
   "execution_count": 4,
   "id": "5d20e148",
   "metadata": {},
   "outputs": [
    {
     "name": "stdout",
     "output_type": "stream",
     "text": [
      "Best Parameters: {'max_depth': 10, 'min_samples_split': 2, 'n_estimators': 50}\n",
      "Best R² Score from GridSearch: 0.0010518643067475297\n"
     ]
    }
   ],
   "source": [
    "from sklearn.model_selection import GridSearchCV\n",
    "\n",
    "# Define model\n",
    "model = RandomForestRegressor(random_state=42)\n",
    "param_grid = {\n",
    "    'n_estimators': [50, 100],\n",
    "    'max_depth': [None, 5, 10],\n",
    "    'min_samples_split': [2, 5]\n",
    "}\n",
    "\n",
    "# GridSearchCV\n",
    "grid_search = GridSearchCV(estimator=model, param_grid=param_grid, \n",
    "                           cv=3, scoring='r2', n_jobs=-1)\n",
    "\n",
    "grid_search.fit(X, y)\n",
    "\n",
    "print(\"Best Parameters:\", grid_search.best_params_)\n",
    "print(\"Best R² Score from GridSearch:\", grid_search.best_score_)\n"
   ]
  },
  {
   "cell_type": "markdown",
   "id": "49e910ac",
   "metadata": {},
   "source": [
    "Step 5: Evaluate Best Model on Full Dataset"
   ]
  },
  {
   "cell_type": "code",
   "execution_count": 5,
   "id": "5866dc2e",
   "metadata": {},
   "outputs": [
    {
     "name": "stdout",
     "output_type": "stream",
     "text": [
      "R² Score on Full Dataset: 0.2435913008333631\n"
     ]
    }
   ],
   "source": [
    "best_model = grid_search.best_estimator_\n",
    "\n",
    "best_model.fit(X, y)\n",
    "\n",
    "y_pred = best_model.predict(X)\n",
    "\n",
    "from sklearn.metrics import r2_score\n",
    "print(\"R² Score on Full Dataset:\", r2_score(y, y_pred))\n"
   ]
  }
 ],
 "metadata": {
  "kernelspec": {
   "display_name": "Python 3",
   "language": "python",
   "name": "python3"
  },
  "language_info": {
   "codemirror_mode": {
    "name": "ipython",
    "version": 3
   },
   "file_extension": ".py",
   "mimetype": "text/x-python",
   "name": "python",
   "nbconvert_exporter": "python",
   "pygments_lexer": "ipython3",
   "version": "3.13.1"
  }
 },
 "nbformat": 4,
 "nbformat_minor": 5
}
